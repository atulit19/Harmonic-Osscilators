{
 "cells": [
  {
   "cell_type": "code",
   "execution_count": 126,
   "id": "9e335c8f-4aa0-486a-a9e7-7a4191377ecc",
   "metadata": {},
   "outputs": [],
   "source": [
    "import numpy as np \n",
    "import matplotlib.pyplot as plt\n",
    "%matplotlib qt\n",
    "x = 1.1\n",
    "y = 1.2\n",
    "vx = .6\n",
    "vy =  .4\n",
    "k = -1.0\n",
    "mm1 = 0.01\n",
    "mm2 = 0.00\n",
    "O = .7"
   ]
  },
  {
   "cell_type": "code",
   "execution_count": 127,
   "id": "865c82eb-128c-4871-aede-16fa8d6f2908",
   "metadata": {},
   "outputs": [],
   "source": [
    "t_max = 35\n",
    "N = 2000\n",
    "\n",
    "t = np.linspace(0,t_max,N)\n",
    "\n",
    "h = t[1] - t[0]\n",
    "\n",
    "X = np.zeros(N)\n",
    "Y = np.zeros(N)\n",
    "\n",
    "Vx = np.zeros(N)\n",
    "Vy = np.zeros(N)\n",
    "\n",
    "X[0] = x\n",
    "Y[0] = y\n",
    "Vx[0] = vx\n",
    "Vy[0] = vy"
   ]
  },
  {
   "cell_type": "code",
   "execution_count": 128,
   "id": "c65fbb14-c1b6-41c2-b22c-3f81cc29b01b",
   "metadata": {},
   "outputs": [],
   "source": [
    "def J2(x,y,vx,vy):\n",
    "\n",
    "    return ((x*vy) - (y*vx))**2 \n",
    "\n",
    "def A(x,y,vx,vy):\n",
    "    \n",
    "    return vx\n",
    "\n",
    "def B(x,y,vx,vy):\n",
    "    \n",
    "    return vy\n",
    "\n",
    "\n",
    "def C(x,y,vx,vy):\n",
    "    \n",
    "    a = mm1/(x**3)\n",
    "    \n",
    "    b = -(k*x)*( (mm1/(x**2)) + (mm2/(y**2)) )\n",
    "    \n",
    "    c = x/(1 -  (k*(x**2)) - (k*(y**2)) )\n",
    "    \n",
    "    d = k*c*(k*J2(x,y,vx,vy)-(vx**2)-(vy**2) )\n",
    "    \n",
    "    \n",
    "    return -(O*c)+a+b+d\n",
    "\n",
    "\n",
    "def D(x,y,vx,vy):\n",
    "    \n",
    "    a = mm2/(y**3)\n",
    "    \n",
    "    b = -(k*y)*( (mm1/(x**2)) + (mm2/(y**2)) )\n",
    "    \n",
    "    c = y/(1 -  (k*(x**2)) - (k*(y**2)) )\n",
    "    \n",
    "    d = k*c*(k*J2(x,y,vx,vy)-(vx**2)-(vy**2))\n",
    "    \n",
    "    \n",
    "    return -(O*c)+a+b+d"
   ]
  },
  {
   "cell_type": "code",
   "execution_count": 129,
   "id": "a6958a6e-c6af-4538-afeb-59160cc772ae",
   "metadata": {},
   "outputs": [],
   "source": [
    "for i in range(1,N,1):\n",
    "    \n",
    "    k0 = h*A(x,y,vx,vy)\n",
    "    l0 = h*B(x,y,vx,vy)\n",
    "    m0 = h*C(x,y,vx,vy)\n",
    "    n0 = h*D(x,y,vx,vy)\n",
    "    \n",
    "    k1 = h*A(x+0.5*k0,y+0.5*l0,vx+0.5*m0,vy+0.5*n0)\n",
    "    l1 = h*B(x+0.5*k0,y+0.5*l0,vx+0.5*m0,vy+0.5*n0)\n",
    "    m1 = h*C(x+0.5*k0,y+0.5*l0,vx+0.5*m0,vy+0.5*n0)\n",
    "    n1 = h*D(x+0.5*k0,y+0.5*l0,vx+0.5*m0,vy+0.5*n0)\n",
    "    \n",
    "    k2 = h*A(x+0.5*k1,y+0.5*l1,vx+0.5*m1,vy+0.5*n1)\n",
    "    l2 = h*B(x+0.5*k1,y+0.5*l1,vx+0.5*m1,vy+0.5*n1)\n",
    "    m2 = h*C(x+0.5*k1,y+0.5*l1,vx+0.5*m1,vy+0.5*n1)\n",
    "    n2 = h*D(x+0.5*k1,y+0.5*l1,vx+0.5*m1,vy+0.5*n1)\n",
    "    \n",
    "    k3 = h*A(x+k2,y+l2,vx+m2,vy+n2)\n",
    "    l3 = h*B(x+k2,y+l2,vx+m2,vy+n2)\n",
    "    m3 = h*C(x+k2,y+l2,vx+m2,vy+n2)\n",
    "    n3 = h*D(x+k2,y+l2,vx+m2,vy+n2)\n",
    "    \n",
    "    \n",
    "    tempx  = (1/6)*(k0+2*k1+2*k2+k3) \n",
    "    tempy  = (1/6)*(l0+2*l1+2*l2+l3)\n",
    "    tempvx = (1/6)*(m0+2*m1+2*m2+m3)\n",
    "    tempvy = (1/6)*(n0+2*n1+2*n2+n3)\n",
    "    \n",
    "    x = x  +  tempx\n",
    "    y = y  +  tempy\n",
    "    vx= vx +  tempvx\n",
    "    vy= vy +  tempvy\n",
    "    \n",
    "    \n",
    "    X[i] = x\n",
    "    Y[i] = y\n",
    "    Vx[i] = vx\n",
    "    Vy[i] = vy\n",
    "    "
   ]
  },
  {
   "cell_type": "code",
   "execution_count": 130,
   "id": "72376790-e7a5-46a6-8899-b0849db03f63",
   "metadata": {},
   "outputs": [
    {
     "data": {
      "text/plain": [
       "<matplotlib.collections.PathCollection at 0x7f491cbd8880>"
      ]
     },
     "execution_count": 130,
     "metadata": {},
     "output_type": "execute_result"
    }
   ],
   "source": [
    "plt.scatter(X,Y)"
   ]
  },
  {
   "cell_type": "code",
   "execution_count": 53,
   "id": "6d80088c-33aa-4833-8167-0e6a34f8a62c",
   "metadata": {},
   "outputs": [
    {
     "data": {
      "text/plain": [
       "0.01001001001001001"
      ]
     },
     "execution_count": 53,
     "metadata": {},
     "output_type": "execute_result"
    }
   ],
   "source": [
    "h"
   ]
  },
  {
   "cell_type": "code",
   "execution_count": 54,
   "id": "d5e11c16-5124-4c6b-b019-0cbfc1c50384",
   "metadata": {},
   "outputs": [
    {
     "data": {
      "text/plain": [
       "[<matplotlib.lines.Line2D at 0x7f49289b5690>]"
      ]
     },
     "execution_count": 54,
     "metadata": {},
     "output_type": "execute_result"
    }
   ],
   "source": [
    "plt.plot(t,X)"
   ]
  },
  {
   "cell_type": "code",
   "execution_count": 47,
   "id": "e58f20e3-bb1b-47cd-9391-b8d7bf256134",
   "metadata": {},
   "outputs": [
    {
     "data": {
      "text/plain": [
       "[<matplotlib.lines.Line2D at 0x7f49288ec1f0>]"
      ]
     },
     "execution_count": 47,
     "metadata": {},
     "output_type": "execute_result"
    }
   ],
   "source": [
    "plt.plot(Vx,Vy)"
   ]
  },
  {
   "cell_type": "code",
   "execution_count": 35,
   "id": "beaf9a93-1fab-4bba-8e21-6c7bd52ac46f",
   "metadata": {},
   "outputs": [],
   "source": [
    "from mpl_toolkits.mplot3d import Axes3D\n",
    "from matplotlib import animation"
   ]
  },
  {
   "cell_type": "code",
   "execution_count": 36,
   "id": "3540fef4-a06c-4903-b187-550593c1fc0d",
   "metadata": {},
   "outputs": [],
   "source": [
    "# Time Array\n",
    "\n",
    "# Position Arrays\n",
    "x = X\n",
    "y = Y\n",
    "#z = np.sqrt(1-X**2-Y**2)\n",
    "z = np.zeros(len(X))\n",
    "# Setting up Data Set for Animation\n",
    "dataSet = np.array([x, y, z])  # Combining our position coordinates\n",
    "numDataPoints = len(t)"
   ]
  },
  {
   "cell_type": "code",
   "execution_count": 37,
   "id": "31ea023a-d5d7-4c4b-b6db-e7400b86616a",
   "metadata": {},
   "outputs": [
    {
     "data": {
      "text/plain": [
       "(3, 1000)"
      ]
     },
     "execution_count": 37,
     "metadata": {},
     "output_type": "execute_result"
    }
   ],
   "source": [
    "dataSet.shape"
   ]
  },
  {
   "cell_type": "code",
   "execution_count": 38,
   "id": "349f6cdf-cba5-4b01-a994-7e9b450f0481",
   "metadata": {},
   "outputs": [],
   "source": [
    "def animate_func(num):\n",
    "    ax.clear()  # Clears the figure to update the line, point,   \n",
    "                # title, and axes\n",
    "    # Updating Trajectory Line (num+1 due to Python indexing)\n",
    "    ax.plot3D(dataSet[0, :num+1], dataSet[1, :num+1], \n",
    "              dataSet[2, :num+1], c='blue')\n",
    "    # Updating Point Location \n",
    "    ax.scatter(dataSet[0, num], dataSet[1, num], dataSet[2, num], \n",
    "               c='blue', marker='o')\n",
    "    # Adding Constant Origin\n",
    "    ax.plot3D(dataSet[0, 0], dataSet[1, 0], dataSet[2, 0],     \n",
    "               c='black', marker='o')\n",
    "    # Setting Axes Limits\n",
    "    ax.set_xlim3d([-1,1 ])\n",
    "    ax.set_ylim3d([-1, 1])\n",
    "    ax.set_zlim3d([0, 1])\n",
    "\n",
    "    # Adding Figure Labels\n",
    "    ax.set_title('Trajectory \\nTime = ' + str(np.round(t[num],    \n",
    "                 decimals=2)) + ' sec')\n",
    "    ax.set_xlabel('x')\n",
    "    ax.set_ylabel('y')\n",
    "    ax.set_zlabel('z')"
   ]
  },
  {
   "cell_type": "code",
   "execution_count": 39,
   "id": "0ce5bf9d-4879-4c3c-bf58-917eb0511a1e",
   "metadata": {},
   "outputs": [],
   "source": [
    "# Plotting the Animation\n",
    "fig = plt.figure()\n",
    "ax = plt.axes(projection='3d')\n",
    "line_ani = animation.FuncAnimation(fig, animate_func, interval=100,   \n",
    "                                   frames=numDataPoints)\n",
    "\n",
    "plt.show()"
   ]
  },
  {
   "cell_type": "code",
   "execution_count": null,
   "id": "1076d111-4f5d-4fef-9884-9ba0b91f1534",
   "metadata": {},
   "outputs": [],
   "source": []
  }
 ],
 "metadata": {
  "kernelspec": {
   "display_name": "Python 3 (ipykernel)",
   "language": "python",
   "name": "python3"
  },
  "language_info": {
   "codemirror_mode": {
    "name": "ipython",
    "version": 3
   },
   "file_extension": ".py",
   "mimetype": "text/x-python",
   "name": "python",
   "nbconvert_exporter": "python",
   "pygments_lexer": "ipython3",
   "version": "3.10.2"
  }
 },
 "nbformat": 4,
 "nbformat_minor": 5
}
